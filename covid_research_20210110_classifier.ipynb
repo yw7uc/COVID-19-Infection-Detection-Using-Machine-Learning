{
 "cells": [
  {
   "cell_type": "markdown",
   "metadata": {},
   "source": [
    "# Covid Research 20201123"
   ]
  },
  {
   "cell_type": "markdown",
   "metadata": {},
   "source": [
    "***\n",
    "## 0. Import"
   ]
  },
  {
   "cell_type": "code",
   "execution_count": 158,
   "metadata": {},
   "outputs": [],
   "source": [
    "import GAN\n",
    "from GAN import *\n",
    "\n",
    "import gc\n",
    "import hdbscan\n",
    "import importlib\n",
    "import io\n",
    "import math\n",
    "import numpy as np\n",
    "import operator\n",
    "import pandas as pd\n",
    "import psutil\n",
    "from matplotlib import pyplot as plt\n",
    "\n",
    "from imblearn.ensemble import BalancedBaggingClassifier\n",
    "from sklearn.cluster import AgglomerativeClustering, KMeans\n",
    "from sklearn.ensemble import BaggingClassifier, GradientBoostingClassifier\n",
    "from sklearn.feature_selection import SelectKBest, chi2\n",
    "from sklearn.impute import SimpleImputer\n",
    "from sklearn.linear_model import LogisticRegression\n",
    "from sklearn.manifold import TSNE\n",
    "from sklearn.metrics import confusion_matrix, accuracy_score, precision_score, recall_score, f1_score, roc_auc_score\n",
    "from sklearn.model_selection import train_test_split\n",
    "from sklearn.preprocessing import Normalizer, StandardScaler, OrdinalEncoder, LabelEncoder\n",
    "\n",
    "seed = 47"
   ]
  },
  {
   "cell_type": "markdown",
   "metadata": {},
   "source": [
    "***\n",
    "## 1. Read Data"
   ]
  },
  {
   "cell_type": "code",
   "execution_count": 159,
   "metadata": {},
   "outputs": [
    {
     "data": {
      "text/html": [
       "<div>\n",
       "<style scoped>\n",
       "    .dataframe tbody tr th:only-of-type {\n",
       "        vertical-align: middle;\n",
       "    }\n",
       "\n",
       "    .dataframe tbody tr th {\n",
       "        vertical-align: top;\n",
       "    }\n",
       "\n",
       "    .dataframe thead th {\n",
       "        text-align: right;\n",
       "    }\n",
       "</style>\n",
       "<table border=\"1\" class=\"dataframe\">\n",
       "  <thead>\n",
       "    <tr style=\"text-align: right;\">\n",
       "      <th></th>\n",
       "      <th>index</th>\n",
       "      <th>patno</th>\n",
       "      <th>Admitted</th>\n",
       "      <th>AdmittingDepartment</th>\n",
       "      <th>COVIDResult</th>\n",
       "      <th>Age</th>\n",
       "      <th>FirstRace</th>\n",
       "      <th>Ethnicity</th>\n",
       "      <th>Sex</th>\n",
       "      <th>heart_rate</th>\n",
       "      <th>...</th>\n",
       "      <th>cmp_bicarbonate</th>\n",
       "      <th>cmp_bun</th>\n",
       "      <th>cmp_creatinine</th>\n",
       "      <th>cmp_glucose</th>\n",
       "      <th>cmp_alt</th>\n",
       "      <th>cmp_ast</th>\n",
       "      <th>cmp_alkaline_phosphatase</th>\n",
       "      <th>cmp_total_protein</th>\n",
       "      <th>cmp_albumin</th>\n",
       "      <th>cmp_bilirubin</th>\n",
       "    </tr>\n",
       "  </thead>\n",
       "  <tbody>\n",
       "    <tr>\n",
       "      <th>0</th>\n",
       "      <td>0</td>\n",
       "      <td>1</td>\n",
       "      <td>1</td>\n",
       "      <td>UVHE MICU</td>\n",
       "      <td>None Detected</td>\n",
       "      <td>78</td>\n",
       "      <td>White or Caucasian</td>\n",
       "      <td>Non-Hispanic</td>\n",
       "      <td>Female</td>\n",
       "      <td>94.0</td>\n",
       "      <td>...</td>\n",
       "      <td>26</td>\n",
       "      <td>31</td>\n",
       "      <td>2.5</td>\n",
       "      <td>82.0</td>\n",
       "      <td>14</td>\n",
       "      <td>26.0</td>\n",
       "      <td>80.0</td>\n",
       "      <td>8.5</td>\n",
       "      <td>4.3</td>\n",
       "      <td>0.5</td>\n",
       "    </tr>\n",
       "    <tr>\n",
       "      <th>1</th>\n",
       "      <td>1</td>\n",
       "      <td>2</td>\n",
       "      <td>0</td>\n",
       "      <td>NaN</td>\n",
       "      <td>None Detected</td>\n",
       "      <td>23</td>\n",
       "      <td>White or Caucasian</td>\n",
       "      <td>Non-Hispanic</td>\n",
       "      <td>Female</td>\n",
       "      <td>121.0</td>\n",
       "      <td>...</td>\n",
       "      <td>19</td>\n",
       "      <td>11</td>\n",
       "      <td>0.9</td>\n",
       "      <td>83.0</td>\n",
       "      <td>73</td>\n",
       "      <td>NaN</td>\n",
       "      <td>100.0</td>\n",
       "      <td>8.1</td>\n",
       "      <td>4.6</td>\n",
       "      <td>0.6</td>\n",
       "    </tr>\n",
       "    <tr>\n",
       "      <th>2</th>\n",
       "      <td>2</td>\n",
       "      <td>3</td>\n",
       "      <td>0</td>\n",
       "      <td>NaN</td>\n",
       "      <td>None Detected</td>\n",
       "      <td>55</td>\n",
       "      <td>African American</td>\n",
       "      <td>Non-Hispanic</td>\n",
       "      <td>Male</td>\n",
       "      <td>83.0</td>\n",
       "      <td>...</td>\n",
       "      <td>23</td>\n",
       "      <td>9</td>\n",
       "      <td>1.2</td>\n",
       "      <td>123.0</td>\n",
       "      <td>26</td>\n",
       "      <td>29.0</td>\n",
       "      <td>106.0</td>\n",
       "      <td>7.1</td>\n",
       "      <td>4.0</td>\n",
       "      <td>0.7</td>\n",
       "    </tr>\n",
       "    <tr>\n",
       "      <th>3</th>\n",
       "      <td>3</td>\n",
       "      <td>4</td>\n",
       "      <td>1</td>\n",
       "      <td>UVHE MICU</td>\n",
       "      <td>None Detected</td>\n",
       "      <td>50</td>\n",
       "      <td>White or Caucasian</td>\n",
       "      <td>Non-Hispanic</td>\n",
       "      <td>Male</td>\n",
       "      <td>88.0</td>\n",
       "      <td>...</td>\n",
       "      <td>30</td>\n",
       "      <td>45</td>\n",
       "      <td>1.6</td>\n",
       "      <td>297.0</td>\n",
       "      <td>22</td>\n",
       "      <td>NaN</td>\n",
       "      <td>78.0</td>\n",
       "      <td>7.8</td>\n",
       "      <td>3.7</td>\n",
       "      <td>0.5</td>\n",
       "    </tr>\n",
       "    <tr>\n",
       "      <th>4</th>\n",
       "      <td>4</td>\n",
       "      <td>5</td>\n",
       "      <td>0</td>\n",
       "      <td>NaN</td>\n",
       "      <td>None Detected</td>\n",
       "      <td>67</td>\n",
       "      <td>African American</td>\n",
       "      <td>Non-Hispanic</td>\n",
       "      <td>Female</td>\n",
       "      <td>90.0</td>\n",
       "      <td>...</td>\n",
       "      <td>27</td>\n",
       "      <td>25</td>\n",
       "      <td>1.0</td>\n",
       "      <td>96.0</td>\n",
       "      <td>12</td>\n",
       "      <td>18.0</td>\n",
       "      <td>122.0</td>\n",
       "      <td>7.4</td>\n",
       "      <td>3.5</td>\n",
       "      <td>0.2</td>\n",
       "    </tr>\n",
       "  </tbody>\n",
       "</table>\n",
       "<p>5 rows × 41 columns</p>\n",
       "</div>"
      ],
      "text/plain": [
       "   index  patno  Admitted AdmittingDepartment    COVIDResult  Age  \\\n",
       "0      0      1         1           UVHE MICU  None Detected   78   \n",
       "1      1      2         0                 NaN  None Detected   23   \n",
       "2      2      3         0                 NaN  None Detected   55   \n",
       "3      3      4         1           UVHE MICU  None Detected   50   \n",
       "4      4      5         0                 NaN  None Detected   67   \n",
       "\n",
       "            FirstRace     Ethnicity     Sex  heart_rate  ...  cmp_bicarbonate  \\\n",
       "0  White or Caucasian  Non-Hispanic  Female        94.0  ...               26   \n",
       "1  White or Caucasian  Non-Hispanic  Female       121.0  ...               19   \n",
       "2    African American  Non-Hispanic    Male        83.0  ...               23   \n",
       "3  White or Caucasian  Non-Hispanic    Male        88.0  ...               30   \n",
       "4    African American  Non-Hispanic  Female        90.0  ...               27   \n",
       "\n",
       "   cmp_bun  cmp_creatinine  cmp_glucose  cmp_alt  cmp_ast  \\\n",
       "0       31             2.5         82.0       14     26.0   \n",
       "1       11             0.9         83.0       73      NaN   \n",
       "2        9             1.2        123.0       26     29.0   \n",
       "3       45             1.6        297.0       22      NaN   \n",
       "4       25             1.0         96.0       12     18.0   \n",
       "\n",
       "   cmp_alkaline_phosphatase  cmp_total_protein  cmp_albumin  cmp_bilirubin  \n",
       "0                      80.0                8.5          4.3            0.5  \n",
       "1                     100.0                8.1          4.6            0.6  \n",
       "2                     106.0                7.1          4.0            0.7  \n",
       "3                      78.0                7.8          3.7            0.5  \n",
       "4                     122.0                7.4          3.5            0.2  \n",
       "\n",
       "[5 rows x 41 columns]"
      ]
     },
     "execution_count": 159,
     "metadata": {},
     "output_type": "execute_result"
    }
   ],
   "source": [
    "data = pd.read_excel('ed_pred.xlsx')\n",
    "data = data.reset_index()\n",
    "data.head()"
   ]
  },
  {
   "cell_type": "code",
   "execution_count": 160,
   "metadata": {},
   "outputs": [
    {
     "name": "stdout",
     "output_type": "stream",
     "text": [
      "<class 'pandas.core.frame.DataFrame'>\n",
      "RangeIndex: 7380 entries, 0 to 7379\n",
      "Data columns (total 41 columns):\n",
      " #   Column                    Non-Null Count  Dtype  \n",
      "---  ------                    --------------  -----  \n",
      " 0   index                     7380 non-null   int64  \n",
      " 1   patno                     7380 non-null   int64  \n",
      " 2   Admitted                  7380 non-null   int64  \n",
      " 3   AdmittingDepartment       3003 non-null   object \n",
      " 4   COVIDResult               7380 non-null   object \n",
      " 5   Age                       7380 non-null   int64  \n",
      " 6   FirstRace                 7379 non-null   object \n",
      " 7   Ethnicity                 7380 non-null   object \n",
      " 8   Sex                       7380 non-null   object \n",
      " 9   heart_rate                7352 non-null   float64\n",
      " 10  sbp                       7292 non-null   float64\n",
      " 11  dbp                       7292 non-null   float64\n",
      " 12  pulse_ox                  7346 non-null   float64\n",
      " 13  resp_rate                 7312 non-null   float64\n",
      " 14  height                    456 non-null    float64\n",
      " 15  wght                      3248 non-null   float64\n",
      " 16  cbc_wbc                   6256 non-null   float64\n",
      " 17  cbc_hematocrit            6256 non-null   float64\n",
      " 18  cbc_hemoglobin            6257 non-null   float64\n",
      " 19  cbc_platelets             6256 non-null   float64\n",
      " 20  cbc_neutrophil_c          3873 non-null   float64\n",
      " 21  cbc_eosinophil_perc       3872 non-null   float64\n",
      " 22  cbc_lymphocyte_c          3874 non-null   float64\n",
      " 23  cbc_lymphocyte_perc       3874 non-null   float64\n",
      " 24  cbc_eosinophil_c          3872 non-null   float64\n",
      " 25  cbc_eosinophil_perc.1     3872 non-null   float64\n",
      " 26  cbc_monocyte_c            3874 non-null   float64\n",
      " 27  cbc_eosinophil_perc.2     3872 non-null   float64\n",
      " 28  cmp_sodium                6286 non-null   float64\n",
      " 29  cmp_potassium             5570 non-null   float64\n",
      " 30  cmp_chloride              6286 non-null   float64\n",
      " 31  cmp_bicarbonate           6276 non-null   object \n",
      " 32  cmp_bun                   6286 non-null   object \n",
      " 33  cmp_creatinine            6286 non-null   object \n",
      " 34  cmp_glucose               6286 non-null   float64\n",
      " 35  cmp_alt                   5401 non-null   object \n",
      " 36  cmp_ast                   4767 non-null   float64\n",
      " 37  cmp_alkaline_phosphatase  5399 non-null   float64\n",
      " 38  cmp_total_protein         5175 non-null   float64\n",
      " 39  cmp_albumin               5402 non-null   float64\n",
      " 40  cmp_bilirubin             5401 non-null   object \n",
      "dtypes: float64(27), int64(4), object(10)\n",
      "memory usage: 2.3+ MB\n"
     ]
    }
   ],
   "source": [
    "data.info()"
   ]
  },
  {
   "cell_type": "markdown",
   "metadata": {},
   "source": [
    "***\n",
    "## 2. Preprocess"
   ]
  },
  {
   "cell_type": "markdown",
   "metadata": {},
   "source": [
    "### 2.1 Prepare"
   ]
  },
  {
   "cell_type": "code",
   "execution_count": 161,
   "metadata": {},
   "outputs": [],
   "source": [
    "feature_cols = ['Age', 'FirstRace', 'Ethnicity', 'Sex', 'height', 'wght', 'heart_rate', 'sbp', 'dbp', 'pulse_ox', 'resp_rate', 'cmp_glucose']\n",
    "label_cols = ['COVIDResult']\n",
    "\n",
    "cat_cols = ['FirstRace', 'Ethnicity', 'Sex']\n",
    "num_cols = feature_cols.copy()\n",
    "for i in cat_cols:\n",
    "    num_cols.remove(i)\n",
    "\n",
    "data_w_features = data[feature_cols + label_cols]\n",
    "train, test = train_test_split(data_w_features, test_size=0.2, random_state=seed)"
   ]
  },
  {
   "cell_type": "markdown",
   "metadata": {},
   "source": [
    "### 2.2 Preprocessing"
   ]
  },
  {
   "cell_type": "code",
   "execution_count": 162,
   "metadata": {},
   "outputs": [],
   "source": [
    "def numerical_imputer_preprocess(x_num):\n",
    "    for i in range(len(x_num)):\n",
    "        for j in range(len(x_num[i])):\n",
    "            if isinstance(x_num[i][j], str):\n",
    "                if (ord('0') <= ord(x_num[i][j][0]) <= ord('9')):\n",
    "                    x_num[i][j] = float(x_num[i][j])\n",
    "                else:\n",
    "                    x_num[i][j] = float(x_num[i][j][1:])\n",
    "                    \n",
    "    imp = SimpleImputer(strategy='constant', fill_value=0)\n",
    "    x_num = imp.fit_transform(x_num)\n",
    "    \n",
    "    return x_num\n",
    "\n",
    "def numerical_normalizer_process(x_num):\n",
    "    norm = Normalizer()\n",
    "    x_num = norm.fit_transform(x_num)\n",
    "    return x_num\n",
    "\n",
    "def numerical_preprocess(x_num):\n",
    "    x_num = numerical_imputer_preprocess(x_num)\n",
    "    x_num = numerical_imputer_preprocess(x_num)\n",
    "    x_num = numerical_normalizer_process(x_num)\n",
    "    \n",
    "    return x_num\n",
    "    \n",
    "def categorical_preprocess(x_cat):\n",
    "    for i in range(len(x_cat)):\n",
    "        if not isinstance(x_cat[i][0], str):\n",
    "            x_cat[i][0] = 'NA'\n",
    "        if not isinstance(x_cat[i][1], str):\n",
    "            x_cat[i][1] = '*Unspecified'\n",
    "            \n",
    "    oe = OrdinalEncoder()\n",
    "    x_cat = oe.fit_transform(x_cat)\n",
    "    \n",
    "    return x_cat\n",
    "    \n",
    "def y_preprocess(y):\n",
    "    le = LabelEncoder()\n",
    "    y = le.fit_transform(y)\n",
    "    for i in range(len(y)):\n",
    "        y[i] = 1 - y[i]\n",
    "    \n",
    "    return y\n",
    "\n",
    "def preprocess(dataset):\n",
    "    x_num = dataset[num_cols].values\n",
    "    x_cat = dataset[cat_cols].values\n",
    "\n",
    "    x_num = numerical_preprocess(x_num)\n",
    "    x_cat = categorical_preprocess(x_cat)\n",
    "    \n",
    "    x = np.concatenate((x_num, x_cat), axis=1)\n",
    "    y = y_preprocess(dataset[label_cols].values.ravel())\n",
    "    \n",
    "    return x, y\n",
    "\n",
    "x_train, y_train = preprocess(train)\n",
    "x_test, y_test = preprocess(test)"
   ]
  },
  {
   "cell_type": "markdown",
   "metadata": {},
   "source": [
    "***\n",
    "## 3. Logistic Regression"
   ]
  },
  {
   "cell_type": "code",
   "execution_count": 163,
   "metadata": {},
   "outputs": [
    {
     "name": "stdout",
     "output_type": "stream",
     "text": [
      "Confusion matrix:\n",
      "[[1262  114]\n",
      " [  54   46]]\n",
      "Accuracy: 88.62%\n",
      "Precision: 28.75%\n",
      "Recall: 46.00%\n",
      "F1 score: 35.38%\n"
     ]
    }
   ],
   "source": [
    "def evaluation(y_test, y_pred):\n",
    "    print(\"Confusion matrix:\")\n",
    "    print(confusion_matrix(y_test, y_pred))\n",
    "    print(\"Accuracy: {:.2f}%\".format(accuracy_score(y_test, y_pred) * 100))\n",
    "    print(\"Precision: {:.2f}%\".format(precision_score(y_test, y_pred) * 100))\n",
    "    print(\"Recall: {:.2f}%\".format(recall_score(y_test, y_pred) * 100))\n",
    "    print(\"F1 score: {:.2f}%\".format(f1_score(y_test, y_pred) * 100))\n",
    "\n",
    "lr = LogisticRegression(random_state=seed, max_iter=500)\n",
    "lr.fit(x_train, y_train)\n",
    "y_pred = lr.predict(x_test)\n",
    "evaluation(y_test, y_pred)"
   ]
  },
  {
   "cell_type": "markdown",
   "metadata": {},
   "source": [
    "---\n",
    "## 4. Bagging"
   ]
  },
  {
   "cell_type": "markdown",
   "metadata": {},
   "source": [
    "### 4.1 Bagging Classifier with Logistic Regression"
   ]
  },
  {
   "cell_type": "code",
   "execution_count": 164,
   "metadata": {},
   "outputs": [
    {
     "name": "stdout",
     "output_type": "stream",
     "text": [
      "Confusion matrix:\n",
      "[[1266  110]\n",
      " [  54   46]]\n",
      "Accuracy: 88.89%\n",
      "Precision: 29.49%\n",
      "Recall: 46.00%\n",
      "F1 score: 35.94%\n"
     ]
    }
   ],
   "source": [
    "clf = BaggingClassifier(base_estimator=LogisticRegression(random_state=seed, max_iter=500), random_state=seed)\n",
    "clf.fit(x_train, y_train)\n",
    "y_pred = clf.predict(x_test)\n",
    "evaluation(y_test, y_pred)"
   ]
  },
  {
   "cell_type": "markdown",
   "metadata": {},
   "source": [
    "### 4.2 Balanced Bagging Classifier with Logistic Regression"
   ]
  },
  {
   "cell_type": "code",
   "execution_count": 165,
   "metadata": {},
   "outputs": [
    {
     "name": "stdout",
     "output_type": "stream",
     "text": [
      "Confusion matrix:\n",
      "[[  17 1359]\n",
      " [   0  100]]\n",
      "Accuracy: 7.93%\n",
      "Precision: 6.85%\n",
      "Recall: 100.00%\n",
      "F1 score: 12.83%\n"
     ]
    }
   ],
   "source": [
    "bbc = BalancedBaggingClassifier(base_estimator=LogisticRegression(random_state=seed, max_iter=500),\n",
    "                                sampling_strategy='auto',\n",
    "                                replacement=False,\n",
    "                                random_state=seed)\n",
    "bbc.fit(x_train, y_train)\n",
    "y_pred = bbc.predict(x_test)\n",
    "evaluation(y_test, y_pred)"
   ]
  },
  {
   "cell_type": "markdown",
   "metadata": {},
   "source": [
    "---\n",
    "## 5. Boosting"
   ]
  },
  {
   "cell_type": "markdown",
   "metadata": {},
   "source": [
    "### 5.1 Gradient Boosting Classifier"
   ]
  },
  {
   "cell_type": "code",
   "execution_count": 166,
   "metadata": {},
   "outputs": [
    {
     "name": "stdout",
     "output_type": "stream",
     "text": [
      "Confusion matrix:\n",
      "[[1055  321]\n",
      " [  77   23]]\n",
      "Accuracy: 73.04%\n",
      "Precision: 6.69%\n",
      "Recall: 23.00%\n",
      "F1 score: 10.36%\n"
     ]
    }
   ],
   "source": [
    "clf = GradientBoostingClassifier(n_estimators=100,\n",
    "                                 learning_rate=1.0,\n",
    "                                 max_depth=1,\n",
    "                                 random_state=seed)\n",
    "clf.fit(x_train, y_train)\n",
    "y_pred = clf.predict(x_test)\n",
    "evaluation(y_test, y_pred)"
   ]
  },
  {
   "cell_type": "code",
   "execution_count": null,
   "metadata": {},
   "outputs": [],
   "source": []
  }
 ],
 "metadata": {
  "kernelspec": {
   "display_name": "Python 3",
   "language": "python",
   "name": "python3"
  },
  "language_info": {
   "codemirror_mode": {
    "name": "ipython",
    "version": 3
   },
   "file_extension": ".py",
   "mimetype": "text/x-python",
   "name": "python",
   "nbconvert_exporter": "python",
   "pygments_lexer": "ipython3",
   "version": "3.7.9"
  }
 },
 "nbformat": 4,
 "nbformat_minor": 2
}
